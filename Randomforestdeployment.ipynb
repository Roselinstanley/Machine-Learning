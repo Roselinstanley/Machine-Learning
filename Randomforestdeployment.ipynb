{
 "cells": [
  {
   "cell_type": "code",
   "execution_count": 5,
   "id": "0ae505d1-a4a6-43e8-90b7-a11477efb7fa",
   "metadata": {},
   "outputs": [
    {
     "name": "stdin",
     "output_type": "stream",
     "text": [
      "Enter R&D=  1234\n",
      "Enter Advertisement=  300\n",
      "Enter Marketing=  400\n",
      "Enter Florida=  1\n",
      "Enter NewYork=  0\n"
     ]
    },
    {
     "name": "stdout",
     "output_type": "stream",
     "text": [
      "Predicted profit={} [49420.2932]\n"
     ]
    },
    {
     "name": "stderr",
     "output_type": "stream",
     "text": [
      "C:\\Users\\Admin\\anaconda3\\Lib\\site-packages\\sklearn\\base.py:493: UserWarning: X does not have valid feature names, but RandomForestRegressor was fitted with feature names\n",
      "  warnings.warn(\n"
     ]
    }
   ],
   "source": [
    "import pickle\n",
    "model=pickle.load(open(\"RFfinal.sav\",\"rb\"))\n",
    "RD=int(input(\"Enter R&D= \"))     #getting the multiple user input to predict profit\n",
    "Ad=int(input(\"Enter Advertisement= \"))\n",
    "MD=int(input(\"Enter Marketing= \"))\n",
    "F=int(input(\"Enter Florida= \"))\n",
    "N=int(input(\"Enter NewYork= \"))\n",
    "pred=model.predict([[RD,Ad,MD,F,N]])\n",
    "print(\"Predicted profit={}\",pred)"
   ]
  },
  {
   "cell_type": "code",
   "execution_count": null,
   "id": "45a065c4-21a6-4cfd-bdef-8cef3329fad7",
   "metadata": {},
   "outputs": [],
   "source": []
  }
 ],
 "metadata": {
  "kernelspec": {
   "display_name": "Python 3 (ipykernel)",
   "language": "python",
   "name": "python3"
  },
  "language_info": {
   "codemirror_mode": {
    "name": "ipython",
    "version": 3
   },
   "file_extension": ".py",
   "mimetype": "text/x-python",
   "name": "python",
   "nbconvert_exporter": "python",
   "pygments_lexer": "ipython3",
   "version": "3.12.4"
  }
 },
 "nbformat": 4,
 "nbformat_minor": 5
}
