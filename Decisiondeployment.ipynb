{
 "cells": [
  {
   "cell_type": "code",
   "execution_count": 3,
   "id": "bab3a7ac-2499-4358-9ef6-2afaa3cb02b4",
   "metadata": {},
   "outputs": [
    {
     "name": "stdin",
     "output_type": "stream",
     "text": [
      "Enter R&D=  4000\n",
      "Enter Advertisement=  3000\n",
      "Enter Marketing=  2500\n",
      "Enter Florida=  0\n",
      "Enter NewYork=  1\n"
     ]
    },
    {
     "name": "stdout",
     "output_type": "stream",
     "text": [
      "Predicted Profit={} [64926.08]\n"
     ]
    },
    {
     "name": "stderr",
     "output_type": "stream",
     "text": [
      "C:\\Users\\Admin\\anaconda3\\Lib\\site-packages\\sklearn\\base.py:493: UserWarning: X does not have valid feature names, but DecisionTreeRegressor was fitted with feature names\n",
      "  warnings.warn(\n"
     ]
    }
   ],
   "source": [
    "#deployment phase\n",
    "import pickle\n",
    "load_model=pickle.load(open(\"decisiontreefinal.sav\",\"rb\"))\n",
    "RD=int(input(\"Enter R&D= \"))     #getting the multiple user input to predict profit\n",
    "Ad=int(input(\"Enter Advertisement= \"))\n",
    "MD=int(input(\"Enter Marketing= \"))\n",
    "F=int(input(\"Enter Florida= \"))\n",
    "N=int(input(\"Enter NewYork= \"))\n",
    "pred=load_model.predict([[RD,Ad,MD,F,N]])  #predicting profit\n",
    "print(\"Predicted Profit={}\",pred)  #displaying predicted profit  "
   ]
  },
  {
   "cell_type": "code",
   "execution_count": null,
   "id": "f5447f8d-7a55-4378-bed3-af7ef8208fe9",
   "metadata": {},
   "outputs": [],
   "source": []
  },
  {
   "cell_type": "code",
   "execution_count": null,
   "id": "3f30c9ea-95be-4820-afaa-79180b00e02e",
   "metadata": {},
   "outputs": [],
   "source": []
  }
 ],
 "metadata": {
  "kernelspec": {
   "display_name": "Python 3 (ipykernel)",
   "language": "python",
   "name": "python3"
  },
  "language_info": {
   "codemirror_mode": {
    "name": "ipython",
    "version": 3
   },
   "file_extension": ".py",
   "mimetype": "text/x-python",
   "name": "python",
   "nbconvert_exporter": "python",
   "pygments_lexer": "ipython3",
   "version": "3.12.4"
  }
 },
 "nbformat": 4,
 "nbformat_minor": 5
}
