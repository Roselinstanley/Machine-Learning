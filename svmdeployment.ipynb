{
 "cells": [
  {
   "cell_type": "code",
   "execution_count": 9,
   "id": "0c547050-4c9c-4ab6-a560-7828e6043f64",
   "metadata": {},
   "outputs": [
    {
     "name": "stdin",
     "output_type": "stream",
     "text": [
      "Enter R&D=  1000\n",
      "Enter Advertisement=  300\n",
      "Enter Marketing=  600\n",
      "Enter Florida=  0\n",
      "Enter NewYork=  1\n"
     ]
    },
    {
     "name": "stdout",
     "output_type": "stream",
     "text": [
      "Predicted Profit={} [38102564.89211501]\n"
     ]
    }
   ],
   "source": [
    "import pickle\n",
    "l_model=pickle.load(open(\"svmfinal.sav\",\"rb\"))\n",
    "RD=int(input(\"Enter R&D= \"))     #getting the multiple user input ie years of experience to predict profit\n",
    "Ad=int(input(\"Enter Advertisement= \"))\n",
    "MD=int(input(\"Enter Marketing= \"))\n",
    "F=int(input(\"Enter Florida= \"))\n",
    "N=int(input(\"Enter NewYork= \"))\n",
    "Futurepred=l_model.predict([[RD,Ad,MD,F,N]])  #predicting profit\n",
    "print(\"Predicted Profit={}\",Futurepred)"
   ]
  },
  {
   "cell_type": "code",
   "execution_count": null,
   "id": "bb9322c0-756d-4fa3-8986-110a862d5b87",
   "metadata": {},
   "outputs": [],
   "source": []
  }
 ],
 "metadata": {
  "kernelspec": {
   "display_name": "Python 3 (ipykernel)",
   "language": "python",
   "name": "python3"
  },
  "language_info": {
   "codemirror_mode": {
    "name": "ipython",
    "version": 3
   },
   "file_extension": ".py",
   "mimetype": "text/x-python",
   "name": "python",
   "nbconvert_exporter": "python",
   "pygments_lexer": "ipython3",
   "version": "3.12.4"
  }
 },
 "nbformat": 4,
 "nbformat_minor": 5
}
