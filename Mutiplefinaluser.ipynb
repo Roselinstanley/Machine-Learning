{
 "cells": [
  {
   "cell_type": "code",
   "execution_count": 15,
   "id": "409e4f05-3dad-4737-8a59-eee028b24fa4",
   "metadata": {},
   "outputs": [
    {
     "name": "stdin",
     "output_type": "stream",
     "text": [
      "Enter R&D=  5647\n",
      "Enter Advertisement=  7893\n",
      "Enter Marketing=  7656\n",
      "Enter Florida=  0\n",
      "Enter NewYork=  1\n"
     ]
    },
    {
     "name": "stdout",
     "output_type": "stream",
     "text": [
      "Predicted Profit={} [[47650.3385782]]\n"
     ]
    },
    {
     "name": "stderr",
     "output_type": "stream",
     "text": [
      "C:\\Users\\Admin\\anaconda3\\Lib\\site-packages\\sklearn\\base.py:493: UserWarning: X does not have valid feature names, but LinearRegression was fitted with feature names\n",
      "  warnings.warn(\n"
     ]
    }
   ],
   "source": [
    "#Deployment phase\n",
    "import pickle\n",
    "l_model=pickle.load(open(\"multiplelinearfinalmodel.sav\",\"rb\")) #This which loads the final model which has been saved\n",
    "RD=int(input(\"Enter R&D= \"))     #getting the multiple user input ie years of experience to predict profit\n",
    "Ad=int(input(\"Enter Advertisement= \"))\n",
    "MD=int(input(\"Enter Marketing= \"))\n",
    "F=int(input(\"Enter Florida= \"))\n",
    "N=int(input(\"Enter NewYork= \"))\n",
    "Futurepred=l_model.predict([[RD,Ad,MD,F,N]])  #predicting profit\n",
    "print(\"Predicted Profit={}\",Futurepred)  #displaying predicted profit           "
   ]
  },
  {
   "cell_type": "code",
   "execution_count": null,
   "id": "85843147-b964-4cfb-864a-a962d6106e35",
   "metadata": {},
   "outputs": [],
   "source": []
  }
 ],
 "metadata": {
  "kernelspec": {
   "display_name": "Python 3 (ipykernel)",
   "language": "python",
   "name": "python3"
  },
  "language_info": {
   "codemirror_mode": {
    "name": "ipython",
    "version": 3
   },
   "file_extension": ".py",
   "mimetype": "text/x-python",
   "name": "python",
   "nbconvert_exporter": "python",
   "pygments_lexer": "ipython3",
   "version": "3.12.4"
  }
 },
 "nbformat": 4,
 "nbformat_minor": 5
}
